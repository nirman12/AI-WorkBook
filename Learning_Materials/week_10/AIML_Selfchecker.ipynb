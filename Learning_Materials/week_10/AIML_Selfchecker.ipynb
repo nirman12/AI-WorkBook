{
 "cells": [
  {
   "cell_type": "markdown",
   "metadata": {},
   "source": [
    "# AIML Portfolio Self-check\n",
    "\n",
    "## TO USE THIS NOTEBOOK RUN EACH CELL ONE BY ONE\n",
    "### If you get errors (red boxes appear) fix them before you move on.\n",
    "\n",
    "<div class=\"alert alert-block alert-danger\"> <b>REMEMBER:</b> You need to make sure you are running this code within the virtual environment you created using 'AIenv'.<br> In Jupyter click on the kernel menu then change-kernel. In VSCode use the kernel selector in the top-right hand corner </div>"
   ]
  },
  {
   "cell_type": "markdown",
   "metadata": {},
   "source": [
    "### 1: Develop your aiml code in the next cell\n",
    "### and run the cell to write it to file"
   ]
  },
  {
   "cell_type": "code",
   "execution_count": 1,
   "metadata": {
    "tags": []
   },
   "outputs": [
    {
     "name": "stdout",
     "output_type": "stream",
     "text": [
      "Overwriting student.aiml\n"
     ]
    }
   ],
   "source": [
    "%%writefile \"student.aiml\"\n",
    "\n",
    "<aiml>\n",
    "\n",
    "  <!-- Answering \"What is ...\" questions -->\n",
    "  <category>\n",
    "    <pattern>WHAT IS *</pattern>\n",
    "    <template>\n",
    "      <think><set name=\"concept\"><lowercase><star/></lowercase></set></think>\n",
    "      <condition name=\"concept\">\n",
    "        <li value=\"long-term knowledge\">Long-term knowledge is valid over a period of time.</li>\n",
    "        <li value=\"short-term knowledge\">Short-term knowledge is only valid for a particular situation or run of a programme.</li>\n",
    "        <li value=\"generic knowledge\">Generic knowledge is relevant to more than one application or domain.</li>\n",
    "        <li value=\"domain-specific knowledge\">Domain-specific knowledge is only applicable to one specific application or domain.</li>\n",
    "        <li value=\"a fact\">A fact is a statement which asserts that a relationship holds for an object-subject pair.</li>\n",
    "        <li value=\"a rule\">A rule is a statement that generates new knowledge by asserting that if one fact is true, then another is also true.</li>\n",
    "        <li value=\"a rule mybot\"><srai>WHAT IS a rule</srai></li>\n",
    "        <li value=\"the way that aiml allows variables in its long-term knowledge\">AIML has wildcards and srai for that purpose.</li>\n",
    "        <li value=\"the way aiml supports context during a conversation\">AIML supports context through the use of the that tag to refer to previous bot answers, and via setting variables such as topic.</li>\n",
    "      </condition>\n",
    "    </template>\n",
    "  </category>\n",
    "\n",
    "  <!-- Answering \"Example of ...\" questions -->\n",
    "  <category>\n",
    "    <pattern>* EXAMPLE OF *</pattern>\n",
    "    <template>\n",
    "      <think><set name=\"example\"><lowercase><star index=\"2\"/></lowercase></set></think>\n",
    "      <condition name=\"example\">\n",
    "        <li value=\"long-term generic knowledge\">Generative AI frequently hallucinates and produces incorrect results.</li>\n",
    "        <li value=\"long-term domain-specific knowledge\">The formal specification of a particular machine learning algorithm.</li>\n",
    "        <li value=\"short-term generic knowledge\">The date today is an example as it may be useful in different contexts but only lasts 24 hours.</li>\n",
    "        <li value=\"short-term domain-specific knowledge\">The deadline for the submission of this portfolio.</li>\n",
    "        <li value=\"a fact\">Submissions for this module are run through automatic and effective plagiarism checks.</li>\n",
    "        <li value=\"a rule\">If submitsOthersWork(X) then commitsAssessmentOffence(X).</li>\n",
    "        <li>I don't have an example for '<star index=\"2\"/>'. Try asking about: long-term generic knowledge, a fact, or a rule.</li>\n",
    "      </condition>\n",
    "    </template>\n",
    "  </category>\n",
    "\n",
    "  <!-- If user asks \"why is that useful\" after a specific answer -->\n",
    "  <category>\n",
    "    <pattern>WHY IS KNOWING THAT USEFUL</pattern>\n",
    "    <that>SUBMISSIONS FOR THIS MODULE ARE RUN THROUGH AUTOMATIC AND EFFECTIVE PLAGIARISM CHECKS</that>\n",
    "    <template>To remind you that we take assessment offences very seriously.</template>\n",
    "  </category>\n",
    "\n",
    "  <category>\n",
    "    <pattern>WHY IS KNOWING THAT USEFUL</pattern>\n",
    "    <that>AIML HAS WILDCARDS AND SRAI FOR THAT PURPOSE</that>\n",
    "    <template>Because it allows us to make statements that apply to classes of things or questions.</template>\n",
    "  </category>\n",
    "\n",
    "  <category>\n",
    "    <pattern>WHY IS KNOWING THAT USEFUL</pattern>\n",
    "    <that>AIML SUPPORTS CONTEXT THROUGH THE USE OF THE THAT TAG TO REFER TO PREVIOUS BOT ANSWERS AND VIA SETTING VARIABLES SUCH AS TOPIC</that>\n",
    "    <template>Because some words like that and it can only be understood in the context of previous sentences.</template>\n",
    "  </category>\n",
    "\n",
    "  <!-- Redirects: user asks definition in different ways -->\n",
    "  <category>\n",
    "    <pattern>GIVE ME A DEFINITION OF *</pattern>\n",
    "    <template><srai>WHAT IS <star/></srai></template>\n",
    "  </category>\n",
    "\n",
    "  <category>\n",
    "    <pattern>TELL ME ABOUT *</pattern>\n",
    "    <template><srai>WHAT IS <star/></srai></template>\n",
    "  </category>\n",
    "\n",
    "  <!-- Redirects: user asks for illustration -->\n",
    "  <category>\n",
    "    <pattern>ILLUSTRATE THE CONCEPT OF *</pattern>\n",
    "    <template><srai>AN EXAMPLE OF <star/></srai></template>\n",
    "  </category>\n",
    "\n",
    "  <!-- Some specific patterns with bot name -->\n",
    "  <category>\n",
    "    <pattern>PLEASE MYBOT WHAT IS A RULE</pattern>\n",
    "    <template><srai>WHAT IS a rule</srai></template>\n",
    "  </category>\n",
    "\n",
    "  <category>\n",
    "    <pattern>MYBOT PLEASE GIVE ME A DEFINITION OF A RULE</pattern>\n",
    "    <template><srai>WHAT IS a rule</srai></template>\n",
    "  </category>\n",
    "\n",
    "</aiml>\n"
   ]
  },
  {
   "cell_type": "markdown",
   "metadata": {},
   "source": [
    "### 2: Run the next code cell to:\n",
    "- do some imports\n",
    "- create a marker object\n",
    "- load the 45 questions-response pairs"
   ]
  },
  {
   "cell_type": "code",
   "execution_count": 2,
   "metadata": {
    "tags": []
   },
   "outputs": [
    {
     "ename": "ModuleNotFoundError",
     "evalue": "No module named 'aiml'",
     "output_type": "error",
     "traceback": [
      "\u001b[1;31m---------------------------------------------------------------------------\u001b[0m",
      "\u001b[1;31mModuleNotFoundError\u001b[0m                       Traceback (most recent call last)",
      "Cell \u001b[1;32mIn[2], line 1\u001b[0m\n\u001b[1;32m----> 1\u001b[0m \u001b[38;5;28;01mfrom\u001b[39;00m \u001b[38;5;21;01maimlmarker\u001b[39;00m \u001b[38;5;28;01mimport\u001b[39;00m AIMLMarker\n\u001b[0;32m      3\u001b[0m my_marker \u001b[38;5;241m=\u001b[39m AIMLMarker()\n\u001b[0;32m      5\u001b[0m my_marker\u001b[38;5;241m.\u001b[39mload_questions()\n",
      "File \u001b[1;32m~\\Desktop\\college\\Final Ai\\Artificial_Intelligence_1\\Learning_Materials\\week_10\\aimlmarker.py:17\u001b[0m\n\u001b[0;32m     14\u001b[0m \u001b[38;5;28;01mfrom\u001b[39;00m \u001b[38;5;21;01mxml\u001b[39;00m\u001b[38;5;21;01m.\u001b[39;00m\u001b[38;5;21;01msax\u001b[39;00m \u001b[38;5;28;01mimport\u001b[39;00m make_parser\n\u001b[0;32m     15\u001b[0m \u001b[38;5;28;01mfrom\u001b[39;00m \u001b[38;5;21;01mxml\u001b[39;00m\u001b[38;5;21;01m.\u001b[39;00m\u001b[38;5;21;01msax\u001b[39;00m\u001b[38;5;21;01m.\u001b[39;00m\u001b[38;5;21;01mhandler\u001b[39;00m \u001b[38;5;28;01mimport\u001b[39;00m ContentHandler\n\u001b[1;32m---> 17\u001b[0m \u001b[38;5;28;01mimport\u001b[39;00m \u001b[38;5;21;01maiml\u001b[39;00m\n\u001b[0;32m     20\u001b[0m \u001b[38;5;28;01mclass\u001b[39;00m \u001b[38;5;21;01mCapturing\u001b[39;00m(\u001b[38;5;28mlist\u001b[39m):\n\u001b[0;32m     21\u001b[0m     \u001b[38;5;28;01mdef\u001b[39;00m \u001b[38;5;21m__enter__\u001b[39m(\u001b[38;5;28mself\u001b[39m):\n",
      "\u001b[1;31mModuleNotFoundError\u001b[0m: No module named 'aiml'"
     ]
    }
   ],
   "source": [
    "from aimlmarker import AIMLMarker\n",
    "\n",
    "my_marker = AIMLMarker()\n",
    "\n",
    "my_marker.load_questions()"
   ]
  },
  {
   "cell_type": "markdown",
   "metadata": {
    "tags": []
   },
   "source": [
    "### 3:Provided that runs ok, run the next cell to load and test your aiml"
   ]
  },
  {
   "cell_type": "code",
   "execution_count": 3,
   "metadata": {
    "tags": []
   },
   "outputs": [
    {
     "name": "stdout",
     "output_type": "stream",
     "text": [
      "Loading student.aiml...done (0.00 seconds)\n",
      "Score is 25\n",
      "Feedback is:\n",
      "45 question-response pairs read for testing your bot.\n",
      "AIML file student.aiml passes basic xml syntax checks.\n",
      "Passed aiml-specific syntax check.\n",
      "After reading your file the bot has 10 categories.\n",
      "Your bot answered 20 questions incorrectly.\n",
      "File student-responses.txt has more details of your bots responses.\n",
      "Common mistakes are typos or extra spaces.\n",
      "For 20 questions your bot did not have a matching category.\n",
      "Your bot answered incorrectly for 1 questions that require a sense of context.\n",
      "To answer these you will need to use <that> tag pairs in your categories, or to access the value held in the bot's <that/> variable (predicate).\n",
      "\n"
     ]
    },
    {
     "name": "stderr",
     "output_type": "stream",
     "text": [
      "WARNING: No match found for input: Provide an example of long-term generic knowledge\n",
      "WARNING: No match found for input: AN EXAMPLE OF a rule\n",
      "WARNING: No match found for input: Give me an example of long-term generic knowledge\n",
      "WARNING: No match found for input: Give me an example of a rule\n",
      "WARNING: No match found for input: Give me an example of long-term domain-specific knowledge\n",
      "WARNING: No match found for input: AN EXAMPLE OF long-term generic knowledge\n",
      "WARNING: No match found for input: Give me an example of short-term generic knowledge\n",
      "WARNING: No match found for input: Provide an example of short-term generic knowledge\n",
      "WARNING: No match found for input: AN EXAMPLE OF short-term domain-specific knowledge\n",
      "WARNING: No match found for input: AN EXAMPLE OF a fact\n",
      "WARNING: No match found for input: Please provide an example of a rule\n",
      "WARNING: No match found for input: Please give me an example of a rule\n",
      "WARNING: No match found for input: Give me an example of short-term domain-specific knowledge\n",
      "WARNING: No match found for input: AN EXAMPLE OF long-term domain-specific knowledge\n",
      "WARNING: No match found for input: AN EXAMPLE OF short-term generic knowledge\n",
      "WARNING: No match found for input: Give me an example of a fact\n",
      "WARNING: No match found for input: Provide an example of long-term domain-specific knowledge\n",
      "WARNING: No match found for input: Provide an example of short-term domain-specific knowledge\n",
      "WARNING: No match found for input: Please provide an example of a fact\n",
      "WARNING: No match found for input: Why is knowing that useful\n"
     ]
    }
   ],
   "source": [
    "my_marker.test_aiml()\n",
    "print(f\"Score is {my_marker.score}\")\n",
    "feedback = my_marker.feedback_str.replace(\"&lt;\", \"<\").replace(\"&gt;\", \">\")\n",
    "\n",
    "print(f\"Feedback is:\\n{feedback}\")"
   ]
  },
  {
   "cell_type": "markdown",
   "metadata": {},
   "source": [
    "### 4: Repeat step3 until there are no errors. \n",
    "### Then you can run the next cell to see what your bot responded for each question"
   ]
  },
  {
   "cell_type": "code",
   "execution_count": 4,
   "metadata": {
    "tags": []
   },
   "outputs": [
    {
     "name": "stderr",
     "output_type": "stream",
     "text": [
      "'cat' is not recognized as an internal or external command,\n",
      "operable program or batch file.\n"
     ]
    }
   ],
   "source": [
    "!cat \"student-responses.txt\""
   ]
  }
 ],
 "metadata": {
  "kernelspec": {
   "display_name": "Python 3 (ipykernel)",
   "language": "python",
   "name": "python3"
  },
  "language_info": {
   "codemirror_mode": {
    "name": "ipython",
    "version": 3
   },
   "file_extension": ".py",
   "mimetype": "text/x-python",
   "name": "python",
   "nbconvert_exporter": "python",
   "pygments_lexer": "ipython3",
   "version": "3.12.7"
  }
 },
 "nbformat": 4,
 "nbformat_minor": 4
}
